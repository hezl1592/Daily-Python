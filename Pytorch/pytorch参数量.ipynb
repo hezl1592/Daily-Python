{
 "cells": [
  {
   "cell_type": "code",
   "execution_count": 34,
   "metadata": {},
   "outputs": [],
   "source": [
    "import torch\n",
    "import torch.nn as nn\n",
    "import torchsummary\n",
    "import thop"
   ]
  },
  {
   "cell_type": "code",
   "execution_count": 21,
   "metadata": {},
   "outputs": [],
   "source": [
    "class BaseNet(nn.Module):\n",
    "    def __init__(self):\n",
    "        super().__init__()\n",
    "        self.conv1 = nn.Conv2d(in_channels=3, out_channels=16, kernel_size=3, stride=1, padding=1, bias=False)\n",
    "        self.conv2 = nn.Conv2d(in_channels=16, out_channels=32, kernel_size=3, stride=1, padding=1, bias=False)\n",
    "    def forward(self,x):\n",
    "        x = self.conv1(x)\n",
    "        x = self.conv2(x)\n",
    "        return x"
   ]
  },
  {
   "cell_type": "code",
   "execution_count": 27,
   "metadata": {},
   "outputs": [
    {
     "name": "stdout",
     "output_type": "stream",
     "text": [
      "----------------------------------------------------------------\n",
      "        Layer (type)               Output Shape         Param #\n",
      "================================================================\n",
      "            Conv2d-1          [1, 16, 256, 256]             432\n",
      "            Conv2d-2          [1, 32, 256, 256]           4,608\n",
      "================================================================\n",
      "Total params: 5,040\n",
      "Trainable params: 5,040\n",
      "Non-trainable params: 0\n",
      "----------------------------------------------------------------\n",
      "Input size (MB): 0.75\n",
      "Forward/backward pass size (MB): 24.00\n",
      "Params size (MB): 0.02\n",
      "Estimated Total Size (MB): 24.77\n",
      "----------------------------------------------------------------\n"
     ]
    }
   ],
   "source": [
    "model = BaseNet()\n",
    "input_size = (3,256,256)\n",
    "torchsummary.summary(model, input_size=input_size, batch_size=1)"
   ]
  },
  {
   "cell_type": "code",
   "execution_count": 37,
   "metadata": {},
   "outputs": [],
   "source": [
    "class BaseNet(nn.Module):\n",
    "    def __init__(self, in_ch, out_ch, group):\n",
    "        super().__init__()\n",
    "        self.conv1 = nn.Conv2d(in_channels=in_ch, out_channels=out_ch,\n",
    "                               groups=group, kernel_size=3, stride=1,\n",
    "                               padding=1, bias=False)\n",
    "\n",
    "    def forward(self, x):\n",
    "        x = self.conv1(x)\n",
    "        # x = self.conv2(x)\n",
    "        return x\n",
    "\n",
    "class BaseNet_DWCONV(nn.Module):\n",
    "    def __init__(self, in_ch, out_ch, group):\n",
    "        super().__init__()\n",
    "        self.dwconv = nn.Conv2d(in_channels=in_ch, out_channels=in_ch,\n",
    "                                groups=in_ch, kernel_size=3,\n",
    "                                stride=1, padding=1, bias=False)\n",
    "\n",
    "        self.poconv = nn.Conv2d(in_channels=in_ch, out_channels=out_ch,\n",
    "                                kernel_size=1, stride=1, bias=False)\n",
    "\n",
    "    def forward(self, x):\n",
    "        print(x.shape)\n",
    "        x = self.dwconv(x)\n",
    "        x = self.poconv(x)\n",
    "\n",
    "        return x"
   ]
  },
  {
   "cell_type": "markdown",
   "metadata": {},
   "source": [
    "#### 常规卷积"
   ]
  },
  {
   "cell_type": "code",
   "execution_count": 46,
   "metadata": {},
   "outputs": [
    {
     "name": "stdout",
     "output_type": "stream",
     "text": [
      "----------------------------------------------------------------\n",
      "        Layer (type)               Output Shape         Param #\n",
      "================================================================\n",
      "            Conv2d-1           [1, 9, 256, 256]             243\n",
      "================================================================\n",
      "Total params: 243\n",
      "Trainable params: 243\n",
      "Non-trainable params: 0\n",
      "----------------------------------------------------------------\n",
      "Input size (MB): 0.75\n",
      "Forward/backward pass size (MB): 4.50\n",
      "Params size (MB): 0.00\n",
      "Estimated Total Size (MB): 5.25\n",
      "----------------------------------------------------------------\n",
      "torch.Size([9, 3, 3, 3])\n",
      "[INFO] Register count_convNd() for <class 'torch.nn.modules.conv.Conv2d'>.\n",
      "\u001b[91m[WARN] Cannot find rule for <class '__main__.BaseNet'>. Treat it as zero Macs and zero Params.\u001b[00m\n",
      "15925248.0 243.0\n"
     ]
    }
   ],
   "source": [
    "model = BaseNet(3, 9, 1)\n",
    "    # print(model)\n",
    "\n",
    "input_size = (3, 256, 256)\n",
    "torchsummary.summary(model, input_size=input_size, batch_size=1)\n",
    "print(model.conv1.weight.data.size())\n",
    "\n",
    "input_tensor = torch.rand(1,3,256,256)\n",
    "\n",
    "flops, params = thop.profile(model=model, inputs=(input_tensor,))\n",
    "print(flops, params)"
   ]
  },
  {
   "cell_type": "markdown",
   "metadata": {},
   "source": [
    "#### 分组卷积"
   ]
  },
  {
   "cell_type": "code",
   "execution_count": 32,
   "metadata": {},
   "outputs": [
    {
     "name": "stdout",
     "output_type": "stream",
     "text": [
      "----------------------------------------------------------------\n",
      "        Layer (type)               Output Shape         Param #\n",
      "================================================================\n",
      "            Conv2d-1           [1, 9, 256, 256]              81\n",
      "================================================================\n",
      "Total params: 81\n",
      "Trainable params: 81\n",
      "Non-trainable params: 0\n",
      "----------------------------------------------------------------\n",
      "Input size (MB): 0.75\n",
      "Forward/backward pass size (MB): 4.50\n",
      "Params size (MB): 0.00\n",
      "Estimated Total Size (MB): 5.25\n",
      "----------------------------------------------------------------\n",
      "torch.Size([9, 1, 3, 3])\n"
     ]
    }
   ],
   "source": [
    "model = BaseNet(3, 9, 3)\n",
    "    # print(model)\n",
    "\n",
    "input_size = (3, 256, 256)\n",
    "torchsummary.summary(model, input_size=input_size, batch_size=1)\n",
    "print(model.conv1.weight.data.size())"
   ]
  },
  {
   "cell_type": "markdown",
   "metadata": {},
   "source": [
    "#### 深度可分离卷积"
   ]
  },
  {
   "cell_type": "code",
   "execution_count": 33,
   "metadata": {},
   "outputs": [
    {
     "name": "stdout",
     "output_type": "stream",
     "text": [
      "----------------------------------------------------------------\n",
      "        Layer (type)               Output Shape         Param #\n",
      "================================================================\n",
      "            Conv2d-1           [1, 3, 256, 256]              27\n",
      "            Conv2d-2           [1, 9, 256, 256]              27\n",
      "================================================================\n",
      "Total params: 54\n",
      "Trainable params: 54\n",
      "Non-trainable params: 0\n",
      "----------------------------------------------------------------\n",
      "Input size (MB): 0.75\n",
      "Forward/backward pass size (MB): 6.00\n",
      "Params size (MB): 0.00\n",
      "Estimated Total Size (MB): 6.75\n",
      "----------------------------------------------------------------\n",
      "torch.Size([3, 1, 3, 3])\n"
     ]
    }
   ],
   "source": [
    "model = BaseNet_DWCONV(3, 9, 3)\n",
    "torchsummary.summary(model, input_size=input_size, batch_size=1)\n",
    "print(model.dwconv.weight.data.size())"
   ]
  },
  {
   "cell_type": "code",
   "execution_count": 48,
   "metadata": {},
   "outputs": [
    {
     "data": {
      "text/plain": [
       "15925248"
      ]
     },
     "execution_count": 48,
     "metadata": {},
     "output_type": "execute_result"
    }
   ],
   "source": []
  },
  {
   "cell_type": "code",
   "execution_count": 64,
   "metadata": {},
   "outputs": [],
   "source": [
    "class BaseNet(nn.Module):\n",
    "    def __init__(self, in_ch, out_ch, group=1):\n",
    "        super().__init__()\n",
    "        self.conv1 = nn.Conv2d(in_channels=in_ch, out_channels=out_ch,\n",
    "                               groups=group, kernel_size=3, stride=1,\n",
    "                               padding=1, bias=False)\n",
    "\n",
    "    def forward(self, x):\n",
    "        x = self.conv1(x)\n",
    "        return x"
   ]
  },
  {
   "cell_type": "code",
   "execution_count": 67,
   "metadata": {},
   "outputs": [
    {
     "name": "stdout",
     "output_type": "stream",
     "text": [
      "----------------------------------------------------------------\n",
      "        Layer (type)               Output Shape         Param #\n",
      "================================================================\n",
      "            Conv2d-1             [1, 3, 64, 64]              54\n",
      "================================================================\n",
      "Total params: 54\n",
      "Trainable params: 54\n",
      "Non-trainable params: 0\n",
      "----------------------------------------------------------------\n",
      "Input size (MB): 0.09\n",
      "Forward/backward pass size (MB): 0.09\n",
      "Params size (MB): 0.00\n",
      "Estimated Total Size (MB): 0.19\n",
      "----------------------------------------------------------------\n",
      "thop:\n",
      "[INFO] Register count_convNd() for <class 'torch.nn.modules.conv.Conv2d'>.\n",
      "\u001b[91m[WARN] Cannot find rule for <class '__main__.BaseNet'>. Treat it as zero Macs and zero Params.\u001b[00m\n",
      "221184.0 54.0\n"
     ]
    }
   ],
   "source": [
    "model = BaseNet(6, 3,3)\n",
    "input_tensor = torch.rand(1,6,64,64)\n",
    "input_size = tuple(input_tensor.shape[1:])\n",
    "torchsummary.summary(model, input_size=input_size, batch_size=1)\n",
    "\n",
    "print(\"thop:\")\n",
    "flops, params = thop.profile(model=model, inputs=(input_tensor,))\n",
    "print(flops, params)"
   ]
  },
  {
   "cell_type": "code",
   "execution_count": 68,
   "metadata": {},
   "outputs": [
    {
     "name": "stdout",
     "output_type": "stream",
     "text": [
      "----------------------------------------------------------------\n",
      "        Layer (type)               Output Shape         Param #\n",
      "================================================================\n",
      "            Conv2d-1             [1, 4, 64, 64]             108\n",
      "================================================================\n",
      "Total params: 108\n",
      "Trainable params: 108\n",
      "Non-trainable params: 0\n",
      "----------------------------------------------------------------\n",
      "Input size (MB): 0.05\n",
      "Forward/backward pass size (MB): 0.12\n",
      "Params size (MB): 0.00\n",
      "Estimated Total Size (MB): 0.17\n",
      "----------------------------------------------------------------\n",
      "thop:\n",
      "[INFO] Register count_convNd() for <class 'torch.nn.modules.conv.Conv2d'>.\n",
      "\u001b[91m[WARN] Cannot find rule for <class '__main__.BaseNet'>. Treat it as zero Macs and zero Params.\u001b[00m\n",
      "442368.0 108.0\n"
     ]
    }
   ],
   "source": [
    "model = BaseNet(3, 4)\n",
    "input_tensor = torch.rand(1,3,64,64)\n",
    "input_size = tuple(input_tensor.shape[1:])\n",
    "torchsummary.summary(model, input_size=input_size, batch_size=1)\n",
    "\n",
    "print(\"thop:\")\n",
    "flops, params = thop.profile(model=model, inputs=(input_tensor,))\n",
    "print(flops, params)"
   ]
  },
  {
   "cell_type": "code",
   "execution_count": 66,
   "metadata": {},
   "outputs": [
    {
     "data": {
      "text/plain": [
       "663552"
      ]
     },
     "execution_count": 66,
     "metadata": {},
     "output_type": "execute_result"
    }
   ],
   "source": [
    "3*3*64*64*3*6"
   ]
  },
  {
   "cell_type": "code",
   "execution_count": 71,
   "metadata": {},
   "outputs": [
    {
     "name": "stdout",
     "output_type": "stream",
     "text": [
      "----------------------------------------------------------------\n",
      "        Layer (type)               Output Shape         Param #\n",
      "================================================================\n",
      "            Conv2d-1             [1, 6, 64, 64]              54\n",
      "            Conv2d-2             [1, 3, 64, 64]              18\n",
      "================================================================\n",
      "Total params: 72\n",
      "Trainable params: 72\n",
      "Non-trainable params: 0\n",
      "----------------------------------------------------------------\n",
      "Input size (MB): 0.09\n",
      "Forward/backward pass size (MB): 0.28\n",
      "Params size (MB): 0.00\n",
      "Estimated Total Size (MB): 0.38\n",
      "----------------------------------------------------------------\n",
      "thop:\n",
      "[INFO] Register count_convNd() for <class 'torch.nn.modules.conv.Conv2d'>.\n",
      "\u001b[91m[WARN] Cannot find rule for <class '__main__.BaseNet_DWCONV_sp'>. Treat it as zero Macs and zero Params.\u001b[00m\n",
      "294912.0 72.0\n"
     ]
    }
   ],
   "source": [
    "class BaseNet_DWCONV_sp(nn.Module):\n",
    "    def __init__(self, in_ch, out_ch, group):\n",
    "        super().__init__()\n",
    "        # depthwise\n",
    "        self.dwconv = nn.Conv2d(in_channels=in_ch, out_channels=in_ch,\n",
    "                                groups=in_ch, kernel_size=3,\n",
    "                                stride=1, padding=1, bias=False)\n",
    "        # pointwise\n",
    "        self.poconv = nn.Conv2d(in_channels=in_ch, out_channels=out_ch,\n",
    "                                kernel_size=1, stride=1, bias=False)\n",
    "\n",
    "    def forward(self, x):\n",
    "        x = self.dwconv(x)\n",
    "        x = self.poconv(x)\n",
    "\n",
    "        return x\n",
    "\n",
    "model = BaseNet_DWCONV_sp(6, 3, 3)\n",
    "input_tensor = torch.rand(1,6,64,64)\n",
    "input_size = tuple(input_tensor.shape[1:])\n",
    "torchsummary.summary(model, input_size=input_size, batch_size=1)\n",
    "\n",
    "print(\"thop:\")\n",
    "flops, params = thop.profile(model=model, inputs=(input_tensor,))\n",
    "print(flops, params)"
   ]
  },
  {
   "cell_type": "code",
   "execution_count": null,
   "metadata": {},
   "outputs": [],
   "source": []
  }
 ],
 "metadata": {
  "kernelspec": {
   "display_name": "Python 3",
   "language": "python",
   "name": "python3"
  },
  "language_info": {
   "codemirror_mode": {
    "name": "ipython",
    "version": 3
   },
   "file_extension": ".py",
   "mimetype": "text/x-python",
   "name": "python",
   "nbconvert_exporter": "python",
   "pygments_lexer": "ipython3",
   "version": "3.6.7"
  }
 },
 "nbformat": 4,
 "nbformat_minor": 4
}
