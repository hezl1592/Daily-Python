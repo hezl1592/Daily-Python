{
 "cells": [
  {
   "cell_type": "markdown",
   "metadata": {},
   "source": [
    "### 计算MIOU"
   ]
  },
  {
   "cell_type": "code",
   "execution_count": 1,
   "metadata": {},
   "outputs": [],
   "source": [
    "import numpy as np\n",
    "import matplotlib.pyplot as plt\n",
    "import os\n",
    "import torch\n",
    "import cv2"
   ]
  },
  {
   "cell_type": "code",
   "execution_count": 2,
   "metadata": {},
   "outputs": [
    {
     "name": "stdout",
     "output_type": "stream",
     "text": [
      "(36, 64, 3) (36, 64, 3) (36, 64)\n"
     ]
    },
    {
     "data": {
      "image/png": "[encoded data removed]",
      "text/plain": [
       "<Figure size 1080x432 with 1 Axes>"
      ]
     },
     "metadata": {
      "needs_background": "light"
     },
     "output_type": "display_data"
    },
    {
     "data": {
      "image/png": "[encoded data removed]",
      "text/plain": [
       "<Figure size 432x288 with 1 Axes>"
      ]
     },
     "metadata": {
      "needs_background": "light"
     },
     "output_type": "display_data"
    }
   ],
   "source": [
    "# target\n",
    "size = (64, 36)\n",
    "image = cv2.imread(\"image/1.jpg\", -1)\n",
    "image = cv2.resize(image, size)\n",
    "colorMap = cv2.imread(\"image/1_drivable_color.png\", -1)\n",
    "colorMap = cv2.resize(colorMap, size)\n",
    "target = cv2.imread(\"image/1_drivable_id.png\", -1)\n",
    "target = cv2.resize(target, size)\n",
    "print(image.shape, colorMap.shape, target.shape)\n",
    "show_image = cv2.hconcat([image, colorMap])\n",
    "\n",
    "figsize = (15,6)\n",
    "plt.figure(1, figsize=figsize)\n",
    "plt.imshow(show_image[:,:,::-1])\n",
    "plt.figure()\n",
    "plt.imshow(target)\n",
    "plt.show()"
   ]
  },
  {
   "cell_type": "code",
   "execution_count": 3,
   "metadata": {},
   "outputs": [],
   "source": [
    "class Evaluator(object):\n",
    "    def __init__(self, num_class):\n",
    "        self.num_class = num_class\n",
    "        self.confusion_matrix = np.zeros((self.num_class,)*2)\n",
    "\n",
    "    def Pixel_Accuracy(self):\n",
    "        Acc = np.diag(self.confusion_matrix).sum() / self.confusion_matrix.sum()\n",
    "        return Acc\n",
    "\n",
    "    def Pixel_Accuracy_Class(self):\n",
    "        Acc = np.diag(self.confusion_matrix) / self.confusion_matrix.sum(axis=1)\n",
    "        Acc = np.nanmean(Acc)\n",
    "        return Acc\n",
    "\n",
    "    def Mean_Intersection_over_Union(self):\n",
    "        MIoU = np.diag(self.confusion_matrix) / (\n",
    "                    np.sum(self.confusion_matrix, axis=1) + np.sum(self.confusion_matrix, axis=0) -\n",
    "                    np.diag(self.confusion_matrix))\n",
    "        print(\"IoU: \", MIoU)\n",
    "        MIoU = np.nanmean(MIoU)\n",
    "        return MIoU\n",
    "\n",
    "    def Frequency_Weighted_Intersection_over_Union(self):\n",
    "        freq = np.sum(self.confusion_matrix, axis=1) / np.sum(self.confusion_matrix)\n",
    "        iu = np.diag(self.confusion_matrix) / (\n",
    "                    np.sum(self.confusion_matrix, axis=1) + np.sum(self.confusion_matrix, axis=0) -\n",
    "                    np.diag(self.confusion_matrix))\n",
    "\n",
    "        FWIoU = (freq[freq > 0] * iu[freq > 0]).sum()\n",
    "        return FWIoU\n",
    "\n",
    "    def _generate_matrix(self, gt_image, pre_image):\n",
    "        mask = (gt_image >= 0) & (gt_image < self.num_class)\n",
    "        label = self.num_class * gt_image[mask].astype('int') + pre_image[mask]\n",
    "        count = np.bincount(label, minlength=self.num_class**2)\n",
    "        confusion_matrix = count.reshape(self.num_class, self.num_class)\n",
    "        return confusion_matrix\n",
    "\n",
    "    def add_batch(self, gt_image, pre_image):\n",
    "        assert gt_image.shape == pre_image.shape\n",
    "        self.confusion_matrix += self._generate_matrix(gt_image, pre_image)\n",
    "\n",
    "    def reset(self):\n",
    "        self.confusion_matrix = np.zeros((self.num_class,) * 2)"
   ]
  },
  {
   "cell_type": "code",
   "execution_count": 4,
   "metadata": {},
   "outputs": [
    {
     "name": "stdout",
     "output_type": "stream",
     "text": [
      "[[0. 0. 0.]\n",
      " [0. 0. 0.]\n",
      " [0. 0. 0.]]\n"
     ]
    }
   ],
   "source": [
    "evaluator = Evaluator(num_class=3)\n",
    "print(evaluator.confusion_matrix)"
   ]
  },
  {
   "cell_type": "code",
   "execution_count": 5,
   "metadata": {},
   "outputs": [
    {
     "data": {
      "text/plain": [
       "<matplotlib.image.AxesImage at 0x26baf19cfd0>"
      ]
     },
     "execution_count": 5,
     "metadata": {},
     "output_type": "execute_result"
    },
    {
     "data": {
      "image/png": "[encoded data removed]",
      "text/plain": [
       "<Figure size 720x216 with 1 Axes>"
      ]
     },
     "metadata": {
      "needs_background": "light"
     },
     "output_type": "display_data"
    }
   ],
   "source": [
    "# target \n",
    "pred = target.copy()\n",
    "pred[target == 1] = 0\n",
    "\n",
    "plt.figure(figsize=(10,3))\n",
    "plt.imshow(cv2.hconcat([target, pred]))\n",
    "# print(target[15:30, :])\n",
    "# print(pred[15:30, :])"
   ]
  },
  {
   "cell_type": "code",
   "execution_count": 24,
   "metadata": {},
   "outputs": [
    {
     "name": "stdout",
     "output_type": "stream",
     "text": [
      "(2, 36, 64)\n",
      "[[3362.    0.    0.]\n",
      " [ 400.    0.    0.]\n",
      " [   0.    0.  846.]]\n",
      "IoU:  [0.89367358 0.         1.        ]\n",
      "Miou: 0.6312245259613681\n"
     ]
    }
   ],
   "source": [
    "target_ = np.expand_dims(target, 0)\n",
    "target_2 = np.repeat(target_, 2, axis=0)\n",
    "\n",
    "pred_ = np.expand_dims(pred, 0)\n",
    "pred_2 = np.repeat(pred_, 2, axis=0)\n",
    "\n",
    "print(target_2.shape)\n",
    "\n",
    "# plt.imshow(target_2[0])\n",
    "\n",
    "evaluator.add_batch(target_2, pred_2)\n",
    "print(evaluator.confusion_matrix)\n",
    "MIou = evaluator.Mean_Intersection_over_Union()\n",
    "print(\"Miou:\", MIou)\n",
    "evaluator.reset()"
   ]
  },
  {
   "cell_type": "code",
   "execution_count": 6,
   "metadata": {},
   "outputs": [
    {
     "name": "stdout",
     "output_type": "stream",
     "text": [
      "[[1681.    0.    0.]\n",
      " [   0.  200.    0.]\n",
      " [   0.    0.  423.]]\n",
      "IoU:  [1. 1. 1.]\n",
      "Miou: 1.0\n"
     ]
    }
   ],
   "source": [
    "evaluator.add_batch(target, target)\n",
    "print(evaluator.confusion_matrix)\n",
    "MIou = evaluator.Mean_Intersection_over_Union()\n",
    "print(\"Miou:\", MIou)\n",
    "evaluator.reset()"
   ]
  },
  {
   "cell_type": "code",
   "execution_count": 10,
   "metadata": {},
   "outputs": [
    {
     "name": "stdout",
     "output_type": "stream",
     "text": [
      "(36, 64)\n"
     ]
    }
   ],
   "source": [
    "print(target.shape)"
   ]
  },
  {
   "cell_type": "code",
   "execution_count": 7,
   "metadata": {},
   "outputs": [
    {
     "name": "stdout",
     "output_type": "stream",
     "text": [
      "[[1681.    0.    0.]\n",
      " [ 200.    0.    0.]\n",
      " [   0.    0.  423.]]\n",
      "IoU:  [0.89367358 0.         1.        ]\n",
      "Miou: 0.6312245259613681\n"
     ]
    }
   ],
   "source": [
    "evaluator.add_batch(target, pred)\n",
    "print(evaluator.confusion_matrix)\n",
    "MIou = evaluator.Mean_Intersection_over_Union()\n",
    "print(\"Miou:\", MIou)\n",
    "evaluator.reset()"
   ]
  },
  {
   "cell_type": "code",
   "execution_count": 8,
   "metadata": {},
   "outputs": [
    {
     "ename": "NameError",
     "evalue": "name 'target_c' is not defined",
     "output_type": "error",
     "traceback": [
      "\u001b[1;31m---------------------------------------------------------------------------\u001b[0m",
      "\u001b[1;31mNameError\u001b[0m                                 Traceback (most recent call last)",
      "\u001b[1;32m<ipython-input-8-26323df73164>\u001b[0m in \u001b[0;36m<module>\u001b[1;34m\u001b[0m\n\u001b[1;32m----> 1\u001b[1;33m \u001b[0mplt\u001b[0m\u001b[1;33m.\u001b[0m\u001b[0mimshow\u001b[0m\u001b[1;33m(\u001b[0m\u001b[0mtarget_c\u001b[0m\u001b[1;33m)\u001b[0m\u001b[1;33m\u001b[0m\u001b[1;33m\u001b[0m\u001b[0m\n\u001b[0m",
      "\u001b[1;31mNameError\u001b[0m: name 'target_c' is not defined"
     ]
    }
   ],
   "source": []
  },
  {
   "cell_type": "code",
   "execution_count": 9,
   "metadata": {},
   "outputs": [
    {
     "data": {
      "text/plain": [
       "<matplotlib.image.AxesImage at 0x26baf2554e0>"
      ]
     },
     "execution_count": 9,
     "metadata": {},
     "output_type": "execute_result"
    },
    {
     "data": {
      "image/png": "[encoded data removed]",
      "text/plain": [
       "<Figure size 432x288 with 1 Axes>"
      ]
     },
     "metadata": {
      "needs_background": "light"
     },
     "output_type": "display_data"
    }
   ],
   "source": [
    "plt.imshow(pred)"
   ]
  },
  {
   "cell_type": "code",
   "execution_count": null,
   "metadata": {},
   "outputs": [],
   "source": []
  }
 ],
 "metadata": {
  "kernelspec": {
   "display_name": "Python 3",
   "language": "python",
   "name": "python3"
  },
  "language_info": {
   "codemirror_mode": {
    "name": "ipython",
    "version": 3
   },
   "file_extension": ".py",
   "mimetype": "text/x-python",
   "name": "python",
   "nbconvert_exporter": "python",
   "pygments_lexer": "ipython3",
   "version": "3.6.7"
  }
 },
 "nbformat": 4,
 "nbformat_minor": 4
}
